{
 "cells": [
  {
   "cell_type": "markdown",
   "id": "16187a73",
   "metadata": {},
   "source": [
    "# Exploratory Data Analysis for Saudi Arabia Weather \n",
    "\n",
    "The aim of this project is to create EDA to explore trends and interesting relationships. This datasaet consists of 249023 observations, which provides hourly historical weather data for all the cities in the Saudi Araboa from 2017 to 2019.\n",
    "\n",
    "\n",
    "Data Source: https://www.kaggle.com/esraamadi/saudi-arabia-weather-history\n"
   ]
  },
  {
   "cell_type": "markdown",
   "id": "18cf8483",
   "metadata": {},
   "source": [
    "# Importing libraries\n"
   ]
  },
  {
   "cell_type": "code",
   "execution_count": 2,
   "id": "6ee7b0d4",
   "metadata": {},
   "outputs": [],
   "source": [
    "import pandas as pd\n",
    "import matplotlib.pyplot as  plt\n",
    "import seaborn as sns"
   ]
  },
  {
   "cell_type": "markdown",
   "id": "32fa2964",
   "metadata": {},
   "source": [
    "# Loading data\n"
   ]
  },
  {
   "cell_type": "code",
   "execution_count": 3,
   "id": "9425988c",
   "metadata": {},
   "outputs": [],
   "source": [
    "df = pd.read_csv(\"/Users/sarahalharbi/Downloads/weather-sa-2017-2019-clean.csv\")"
   ]
  },
  {
   "cell_type": "markdown",
   "id": "670dfc8c",
   "metadata": {},
   "source": [
    "# Summary statistics\n"
   ]
  },
  {
   "cell_type": "code",
   "execution_count": 4,
   "id": "63f857f4",
   "metadata": {},
   "outputs": [
    {
     "data": {
      "text/html": [
       "<div>\n",
       "<style scoped>\n",
       "    .dataframe tbody tr th:only-of-type {\n",
       "        vertical-align: middle;\n",
       "    }\n",
       "\n",
       "    .dataframe tbody tr th {\n",
       "        vertical-align: top;\n",
       "    }\n",
       "\n",
       "    .dataframe thead th {\n",
       "        text-align: right;\n",
       "    }\n",
       "</style>\n",
       "<table border=\"1\" class=\"dataframe\">\n",
       "  <thead>\n",
       "    <tr style=\"text-align: right;\">\n",
       "      <th></th>\n",
       "      <th>Unnamed: 0</th>\n",
       "      <th>city</th>\n",
       "      <th>date</th>\n",
       "      <th>time</th>\n",
       "      <th>year</th>\n",
       "      <th>month</th>\n",
       "      <th>day</th>\n",
       "      <th>hour</th>\n",
       "      <th>minute</th>\n",
       "      <th>weather</th>\n",
       "      <th>temp</th>\n",
       "      <th>wind</th>\n",
       "      <th>humidity</th>\n",
       "      <th>barometer</th>\n",
       "      <th>visibility</th>\n",
       "    </tr>\n",
       "  </thead>\n",
       "  <tbody>\n",
       "    <tr>\n",
       "      <th>0</th>\n",
       "      <td>0</td>\n",
       "      <td>Qassim</td>\n",
       "      <td>1 January 2017</td>\n",
       "      <td>00:00</td>\n",
       "      <td>2017</td>\n",
       "      <td>1</td>\n",
       "      <td>1</td>\n",
       "      <td>24</td>\n",
       "      <td>0</td>\n",
       "      <td>Clear</td>\n",
       "      <td>17</td>\n",
       "      <td>11</td>\n",
       "      <td>64%</td>\n",
       "      <td>1018.0</td>\n",
       "      <td>16</td>\n",
       "    </tr>\n",
       "    <tr>\n",
       "      <th>1</th>\n",
       "      <td>1</td>\n",
       "      <td>Qassim</td>\n",
       "      <td>1 January 2017</td>\n",
       "      <td>01:00</td>\n",
       "      <td>2017</td>\n",
       "      <td>1</td>\n",
       "      <td>1</td>\n",
       "      <td>1</td>\n",
       "      <td>0</td>\n",
       "      <td>Clear</td>\n",
       "      <td>17</td>\n",
       "      <td>6</td>\n",
       "      <td>64%</td>\n",
       "      <td>1018.0</td>\n",
       "      <td>16</td>\n",
       "    </tr>\n",
       "    <tr>\n",
       "      <th>2</th>\n",
       "      <td>2</td>\n",
       "      <td>Qassim</td>\n",
       "      <td>1 January 2017</td>\n",
       "      <td>03:00</td>\n",
       "      <td>2017</td>\n",
       "      <td>1</td>\n",
       "      <td>1</td>\n",
       "      <td>3</td>\n",
       "      <td>0</td>\n",
       "      <td>Clear</td>\n",
       "      <td>15</td>\n",
       "      <td>11</td>\n",
       "      <td>72%</td>\n",
       "      <td>1019.0</td>\n",
       "      <td>16</td>\n",
       "    </tr>\n",
       "    <tr>\n",
       "      <th>3</th>\n",
       "      <td>3</td>\n",
       "      <td>Qassim</td>\n",
       "      <td>1 January 2017</td>\n",
       "      <td>04:00</td>\n",
       "      <td>2017</td>\n",
       "      <td>1</td>\n",
       "      <td>1</td>\n",
       "      <td>4</td>\n",
       "      <td>0</td>\n",
       "      <td>Clear</td>\n",
       "      <td>15</td>\n",
       "      <td>11</td>\n",
       "      <td>72%</td>\n",
       "      <td>1019.0</td>\n",
       "      <td>16</td>\n",
       "    </tr>\n",
       "    <tr>\n",
       "      <th>4</th>\n",
       "      <td>4</td>\n",
       "      <td>Qassim</td>\n",
       "      <td>1 January 2017</td>\n",
       "      <td>05:00</td>\n",
       "      <td>2017</td>\n",
       "      <td>1</td>\n",
       "      <td>1</td>\n",
       "      <td>5</td>\n",
       "      <td>0</td>\n",
       "      <td>Clear</td>\n",
       "      <td>15</td>\n",
       "      <td>9</td>\n",
       "      <td>72%</td>\n",
       "      <td>1019.0</td>\n",
       "      <td>16</td>\n",
       "    </tr>\n",
       "  </tbody>\n",
       "</table>\n",
       "</div>"
      ],
      "text/plain": [
       "   Unnamed: 0    city            date   time  year  month  day  hour  minute  \\\n",
       "0           0  Qassim  1 January 2017  00:00  2017      1    1    24       0   \n",
       "1           1  Qassim  1 January 2017  01:00  2017      1    1     1       0   \n",
       "2           2  Qassim  1 January 2017  03:00  2017      1    1     3       0   \n",
       "3           3  Qassim  1 January 2017  04:00  2017      1    1     4       0   \n",
       "4           4  Qassim  1 January 2017  05:00  2017      1    1     5       0   \n",
       "\n",
       "  weather  temp  wind humidity  barometer  visibility  \n",
       "0  Clear     17    11      64%     1018.0          16  \n",
       "1  Clear     17     6      64%     1018.0          16  \n",
       "2  Clear     15    11      72%     1019.0          16  \n",
       "3  Clear     15    11      72%     1019.0          16  \n",
       "4  Clear     15     9      72%     1019.0          16  "
      ]
     },
     "execution_count": 4,
     "metadata": {},
     "output_type": "execute_result"
    }
   ],
   "source": [
    "df.head()"
   ]
  },
  {
   "cell_type": "code",
   "execution_count": 5,
   "id": "c6ba5102",
   "metadata": {},
   "outputs": [
    {
     "data": {
      "text/plain": [
       "(249023, 15)"
      ]
     },
     "execution_count": 5,
     "metadata": {},
     "output_type": "execute_result"
    }
   ],
   "source": [
    "df.shape"
   ]
  },
  {
   "cell_type": "markdown",
   "id": "f677fa79",
   "metadata": {},
   "source": [
    "> There are 249023 observation with 15 features for each. "
   ]
  },
  {
   "cell_type": "code",
   "execution_count": 6,
   "id": "694b2652",
   "metadata": {},
   "outputs": [
    {
     "data": {
      "text/html": [
       "<div>\n",
       "<style scoped>\n",
       "    .dataframe tbody tr th:only-of-type {\n",
       "        vertical-align: middle;\n",
       "    }\n",
       "\n",
       "    .dataframe tbody tr th {\n",
       "        vertical-align: top;\n",
       "    }\n",
       "\n",
       "    .dataframe thead th {\n",
       "        text-align: right;\n",
       "    }\n",
       "</style>\n",
       "<table border=\"1\" class=\"dataframe\">\n",
       "  <thead>\n",
       "    <tr style=\"text-align: right;\">\n",
       "      <th></th>\n",
       "      <th>Unnamed: 0</th>\n",
       "      <th>year</th>\n",
       "      <th>month</th>\n",
       "      <th>day</th>\n",
       "      <th>hour</th>\n",
       "      <th>minute</th>\n",
       "      <th>temp</th>\n",
       "      <th>wind</th>\n",
       "      <th>barometer</th>\n",
       "      <th>visibility</th>\n",
       "    </tr>\n",
       "  </thead>\n",
       "  <tbody>\n",
       "    <tr>\n",
       "      <th>count</th>\n",
       "      <td>249023.000000</td>\n",
       "      <td>249023.000000</td>\n",
       "      <td>249023.000000</td>\n",
       "      <td>249023.000000</td>\n",
       "      <td>249023.000000</td>\n",
       "      <td>249023.000000</td>\n",
       "      <td>249023.000000</td>\n",
       "      <td>249023.000000</td>\n",
       "      <td>248951.000000</td>\n",
       "      <td>249023.000000</td>\n",
       "    </tr>\n",
       "    <tr>\n",
       "      <th>mean</th>\n",
       "      <td>121690.686174</td>\n",
       "      <td>2017.710007</td>\n",
       "      <td>6.050694</td>\n",
       "      <td>15.691081</td>\n",
       "      <td>12.536890</td>\n",
       "      <td>0.131108</td>\n",
       "      <td>24.722624</td>\n",
       "      <td>12.957104</td>\n",
       "      <td>1015.455355</td>\n",
       "      <td>11.053453</td>\n",
       "    </tr>\n",
       "    <tr>\n",
       "      <th>std</th>\n",
       "      <td>71831.546649</td>\n",
       "      <td>0.706113</td>\n",
       "      <td>3.521591</td>\n",
       "      <td>8.787958</td>\n",
       "      <td>6.910254</td>\n",
       "      <td>1.970710</td>\n",
       "      <td>8.880913</td>\n",
       "      <td>8.711619</td>\n",
       "      <td>6.970779</td>\n",
       "      <td>7.053005</td>\n",
       "    </tr>\n",
       "    <tr>\n",
       "      <th>min</th>\n",
       "      <td>0.000000</td>\n",
       "      <td>2017.000000</td>\n",
       "      <td>1.000000</td>\n",
       "      <td>1.000000</td>\n",
       "      <td>1.000000</td>\n",
       "      <td>0.000000</td>\n",
       "      <td>-4.000000</td>\n",
       "      <td>-1.000000</td>\n",
       "      <td>904.000000</td>\n",
       "      <td>-1.000000</td>\n",
       "    </tr>\n",
       "    <tr>\n",
       "      <th>25%</th>\n",
       "      <td>59402.500000</td>\n",
       "      <td>2017.000000</td>\n",
       "      <td>3.000000</td>\n",
       "      <td>8.000000</td>\n",
       "      <td>7.000000</td>\n",
       "      <td>0.000000</td>\n",
       "      <td>18.000000</td>\n",
       "      <td>7.000000</td>\n",
       "      <td>1011.000000</td>\n",
       "      <td>5.000000</td>\n",
       "    </tr>\n",
       "    <tr>\n",
       "      <th>50%</th>\n",
       "      <td>121658.000000</td>\n",
       "      <td>2018.000000</td>\n",
       "      <td>6.000000</td>\n",
       "      <td>16.000000</td>\n",
       "      <td>13.000000</td>\n",
       "      <td>0.000000</td>\n",
       "      <td>24.000000</td>\n",
       "      <td>11.000000</td>\n",
       "      <td>1016.000000</td>\n",
       "      <td>16.000000</td>\n",
       "    </tr>\n",
       "    <tr>\n",
       "      <th>75%</th>\n",
       "      <td>183913.500000</td>\n",
       "      <td>2018.000000</td>\n",
       "      <td>9.000000</td>\n",
       "      <td>23.000000</td>\n",
       "      <td>19.000000</td>\n",
       "      <td>0.000000</td>\n",
       "      <td>31.000000</td>\n",
       "      <td>19.000000</td>\n",
       "      <td>1021.000000</td>\n",
       "      <td>16.000000</td>\n",
       "    </tr>\n",
       "    <tr>\n",
       "      <th>max</th>\n",
       "      <td>246169.000000</td>\n",
       "      <td>2019.000000</td>\n",
       "      <td>12.000000</td>\n",
       "      <td>31.000000</td>\n",
       "      <td>24.000000</td>\n",
       "      <td>59.000000</td>\n",
       "      <td>50.000000</td>\n",
       "      <td>163.000000</td>\n",
       "      <td>1101.000000</td>\n",
       "      <td>161.000000</td>\n",
       "    </tr>\n",
       "  </tbody>\n",
       "</table>\n",
       "</div>"
      ],
      "text/plain": [
       "          Unnamed: 0           year          month            day  \\\n",
       "count  249023.000000  249023.000000  249023.000000  249023.000000   \n",
       "mean   121690.686174    2017.710007       6.050694      15.691081   \n",
       "std     71831.546649       0.706113       3.521591       8.787958   \n",
       "min         0.000000    2017.000000       1.000000       1.000000   \n",
       "25%     59402.500000    2017.000000       3.000000       8.000000   \n",
       "50%    121658.000000    2018.000000       6.000000      16.000000   \n",
       "75%    183913.500000    2018.000000       9.000000      23.000000   \n",
       "max    246169.000000    2019.000000      12.000000      31.000000   \n",
       "\n",
       "                hour         minute           temp           wind  \\\n",
       "count  249023.000000  249023.000000  249023.000000  249023.000000   \n",
       "mean       12.536890       0.131108      24.722624      12.957104   \n",
       "std         6.910254       1.970710       8.880913       8.711619   \n",
       "min         1.000000       0.000000      -4.000000      -1.000000   \n",
       "25%         7.000000       0.000000      18.000000       7.000000   \n",
       "50%        13.000000       0.000000      24.000000      11.000000   \n",
       "75%        19.000000       0.000000      31.000000      19.000000   \n",
       "max        24.000000      59.000000      50.000000     163.000000   \n",
       "\n",
       "           barometer     visibility  \n",
       "count  248951.000000  249023.000000  \n",
       "mean     1015.455355      11.053453  \n",
       "std         6.970779       7.053005  \n",
       "min       904.000000      -1.000000  \n",
       "25%      1011.000000       5.000000  \n",
       "50%      1016.000000      16.000000  \n",
       "75%      1021.000000      16.000000  \n",
       "max      1101.000000     161.000000  "
      ]
     },
     "execution_count": 6,
     "metadata": {},
     "output_type": "execute_result"
    }
   ],
   "source": [
    "df.describe()"
   ]
  },
  {
   "cell_type": "code",
   "execution_count": 7,
   "id": "063789ba",
   "metadata": {},
   "outputs": [
    {
     "data": {
      "text/plain": [
       "Jawf                20352\n",
       "Mecca               20268\n",
       "Tabuk               20240\n",
       "Northern boarder    20235\n",
       "Hail                20121\n",
       "Madina              19965\n",
       "Baha                19959\n",
       "Najran              19847\n",
       "Jazan               19829\n",
       "Qassim              19793\n",
       "EP                  18505\n",
       "Riyadh              16421\n",
       "Assir               13488\n",
       "Name: city, dtype: int64"
      ]
     },
     "execution_count": 7,
     "metadata": {},
     "output_type": "execute_result"
    }
   ],
   "source": [
    "df.city.value_counts()"
   ]
  },
  {
   "cell_type": "markdown",
   "id": "4623d27b",
   "metadata": {},
   "source": [
    "> The city column is represent the \"Provinces\" in Saudi Arabia, which is divided into 13 provinces. "
   ]
  },
  {
   "cell_type": "code",
   "execution_count": 8,
   "id": "29873dcf",
   "metadata": {},
   "outputs": [
    {
     "data": {
      "text/plain": [
       "Unnamed: 0     0\n",
       "city           0\n",
       "date           0\n",
       "time           0\n",
       "year           0\n",
       "month          0\n",
       "day            0\n",
       "hour           0\n",
       "minute         0\n",
       "weather        0\n",
       "temp           0\n",
       "wind           0\n",
       "humidity      17\n",
       "barometer     72\n",
       "visibility     0\n",
       "dtype: int64"
      ]
     },
     "execution_count": 8,
     "metadata": {},
     "output_type": "execute_result"
    }
   ],
   "source": [
    "df.isnull().sum()"
   ]
  },
  {
   "cell_type": "code",
   "execution_count": 9,
   "id": "78f50941",
   "metadata": {},
   "outputs": [
    {
     "data": {
      "text/plain": [
       "Unnamed: 0      int64\n",
       "city           object\n",
       "date           object\n",
       "time           object\n",
       "year            int64\n",
       "month           int64\n",
       "day             int64\n",
       "hour            int64\n",
       "minute          int64\n",
       "weather        object\n",
       "temp            int64\n",
       "wind            int64\n",
       "humidity       object\n",
       "barometer     float64\n",
       "visibility      int64\n",
       "dtype: object"
      ]
     },
     "execution_count": 9,
     "metadata": {},
     "output_type": "execute_result"
    }
   ],
   "source": [
    "df.dtypes"
   ]
  },
  {
   "cell_type": "markdown",
   "id": "31460742",
   "metadata": {},
   "source": [
    "## Dealing with the missing values"
   ]
  },
  {
   "cell_type": "markdown",
   "id": "9dad55db",
   "metadata": {},
   "source": [
    "We noticed that we have missing values in these two columns; humidity, barometer. I decide to fill those missing values by the means value for each city. \n",
    "\n",
    "For the humidity column, we have to convert it from object to numerical.\n"
   ]
  },
  {
   "cell_type": "code",
   "execution_count": 10,
   "id": "5f8a6c15",
   "metadata": {},
   "outputs": [],
   "source": [
    "# convert the column type.\n",
    "df['humidity'] = df['humidity'].str.replace('%',' ').astype('float')"
   ]
  },
  {
   "cell_type": "code",
   "execution_count": 11,
   "id": "5fd56fdf",
   "metadata": {},
   "outputs": [],
   "source": [
    "# filling the missing values with means for each city\n",
    "\n",
    "df[\"barometer\"] = df.groupby(\"city\")[\"barometer\"].transform(lambda x: x.fillna(x.mean()))\n"
   ]
  },
  {
   "cell_type": "code",
   "execution_count": 12,
   "id": "17f2d87e",
   "metadata": {},
   "outputs": [],
   "source": [
    "df[\"humidity\"] = df.groupby(\"city\")[\"humidity\"].transform(lambda x: x.fillna(x.mean()))\n",
    "\n"
   ]
  },
  {
   "cell_type": "code",
   "execution_count": 13,
   "id": "e1f73398",
   "metadata": {},
   "outputs": [
    {
     "data": {
      "text/plain": [
       "Unnamed: 0    0\n",
       "city          0\n",
       "date          0\n",
       "time          0\n",
       "year          0\n",
       "month         0\n",
       "day           0\n",
       "hour          0\n",
       "minute        0\n",
       "weather       0\n",
       "temp          0\n",
       "wind          0\n",
       "humidity      0\n",
       "barometer     0\n",
       "visibility    0\n",
       "dtype: int64"
      ]
     },
     "execution_count": 13,
     "metadata": {},
     "output_type": "execute_result"
    }
   ],
   "source": [
    "# check again for the missing values.\n",
    "df.isnull().sum()"
   ]
  },
  {
   "cell_type": "markdown",
   "id": "a638ba18",
   "metadata": {},
   "source": [
    "# EDA"
   ]
  },
  {
   "cell_type": "markdown",
   "id": "6dc0069a",
   "metadata": {},
   "source": [
    "## Correlation heatmap "
   ]
  },
  {
   "cell_type": "code",
   "execution_count": null,
   "id": "4d1fb698",
   "metadata": {},
   "outputs": [],
   "source": [
    "# Create correlation heatmap \n",
    "correlation = df.corr()\n",
    "plt.figure(figsize=(16,12))\n",
    "#title of the chart\n",
    "plt.title('Correlation Heatmap of Weather in Saudi Arabia Dataset')\n",
    "ax = sns.heatmap(correlation, square=True, annot=True)\n",
    "ax.set_xticklabels(ax.get_xticklabels(), rotation=90)\n",
    "ax.set_yticklabels(ax.get_yticklabels(), rotation=30)           \n",
    "plt.show()"
   ]
  },
  {
   "cell_type": "markdown",
   "id": "e879b05c",
   "metadata": {},
   "source": [
    "> We could clearly notice that, there're no stronge positive relationship between the features, however, temp has a significant negative correlation with the barometer, humidity, -0.68, -0.60, respectively. Whereas, there're some low postive correlation between the temp and the wind at approximately 24%. It also has another low positive correlation between the temp and the time (month, hours) at roughly 0.23%.\n",
    "\n"
   ]
  },
  {
   "cell_type": "markdown",
   "id": "26ad0c97",
   "metadata": {},
   "source": [
    "## Explore the rainy days "
   ]
  },
  {
   "cell_type": "code",
   "execution_count": 23,
   "id": "693515ca",
   "metadata": {},
   "outputs": [],
   "source": [
    "# set the maximum row to display all the result of the weather column \n",
    "pd.set_option(\"display.max_rows\", None)\n"
   ]
  },
  {
   "cell_type": "code",
   "execution_count": 24,
   "id": "95096c9c",
   "metadata": {},
   "outputs": [
    {
     "data": {
      "text/plain": [
       "Clear                                          98827\n",
       "Sunny                                          82194\n",
       "Passing clouds                                 34380\n",
       "Scattered clouds                               15304\n",
       "Partly sunny                                    6925\n",
       "Duststorm                                       1893\n",
       "Fog                                             1501\n",
       "Broken clouds                                   1272\n",
       "Thunderstorms  Passing clouds                   1232\n",
       "Low level haze                                  1046\n",
       "Partly cloudy                                    755\n",
       "Thunderstorms  Partly sunny                      620\n",
       "Haze                                             420\n",
       "Dense fog                                        277\n",
       "Rain  Passing clouds                             276\n",
       "Thunderstorms  Scattered clouds                  221\n",
       "Sandstorm                                        202\n",
       "Rain  Partly sunny                               200\n",
       "Overcast                                         160\n",
       "Thunderstorms  Partly cloudy                     147\n",
       "Mostly cloudy                                    134\n",
       "More clouds than sun                             129\n",
       "Thunderstorms  Mostly cloudy                      80\n",
       "Thunderstorms  Overcast                           71\n",
       "Thunderstorms  Broken clouds                      61\n",
       "Rain  Overcast                                    52\n",
       "Rain  Partly cloudy                               50\n",
       "Rain  Mostly cloudy                               43\n",
       "Mild                                              38\n",
       "Extremely hot                                     37\n",
       "Rain  Scattered clouds                            32\n",
       "Pleasantly warm                                   27\n",
       "Rain  More clouds than sun                        21\n",
       "Thundershowers  Passing clouds                    20\n",
       "Light rain  Mostly cloudy                         20\n",
       "Sprinkles  Cloudy                                 20\n",
       "Light rain  Overcast                              19\n",
       "Light rain  Passing clouds                        19\n",
       "Smoke                                             18\n",
       "Rain  Broken clouds                               17\n",
       "Drizzle  Partly sunny                             17\n",
       "Sprinkles  Overcast                               17\n",
       "Drizzle  Mostly cloudy                            17\n",
       "Thunderstorms  More clouds than sun               16\n",
       "Light rain  Partly sunny                          15\n",
       "Light rain  Partly cloudy                         15\n",
       "Light rain  Broken clouds                         12\n",
       "Warm                                              12\n",
       "Thunderstorms  Fog                                10\n",
       "Drizzle  More clouds than sun                     10\n",
       "Drizzle  Fog                                      10\n",
       "Drizzle  Broken clouds                             9\n",
       "Refreshingly cool                                  8\n",
       "Light rain  More clouds than sun                   8\n",
       "Rain  Sandstorm                                    8\n",
       "Cool                                               8\n",
       "Drizzle  Overcast                                  7\n",
       "Cloudy                                             6\n",
       "Thundershowers  Partly sunny                       5\n",
       "Thunderstorms  Sandstorm                           5\n",
       "Sprinkles  Duststorm                               4\n",
       "Thundershowers  Scattered clouds                   4\n",
       "Light rain  Scattered clouds                       4\n",
       "Rain  Fog                                          4\n",
       "Thunderstorms  Cloudy                              4\n",
       "Heavy rain  Partly sunny                           4\n",
       "Hot                                                3\n",
       "Drizzle  Dense fog                                 3\n",
       "Heavy rain  Mostly cloudy                          3\n",
       "Hail  Partly sunny                                 2\n",
       "Light rain  Fog                                    2\n",
       "Hail  Passing clouds                               2\n",
       "Rain showers  Partly sunny                         1\n",
       "Heavy rain  Overcast                               1\n",
       "Sprinkles  Low level haze                          1\n",
       "Strong thunderstorms  Partly sunny                 1\n",
       "Heavy rain  More clouds than sun                   1\n",
       "Strong thunderstorms  More clouds than sun         1\n",
       "Hail  Cloudy                                       1\n",
       "Strong thunderstorms  Cloudy                       1\n",
       "Rain  Clear                                        1\n",
       "Name: weather, dtype: int64"
      ]
     },
     "execution_count": 24,
     "metadata": {},
     "output_type": "execute_result"
    }
   ],
   "source": [
    "# show the all the values from the weather column\n",
    "df.weather.value_counts()"
   ]
  },
  {
   "cell_type": "markdown",
   "id": "294416d0",
   "metadata": {},
   "source": [
    " > in order to sort this problem we could create new boolean column for the rain "
   ]
  },
  {
   "cell_type": "code",
   "execution_count": 25,
   "id": "ba29ef17",
   "metadata": {},
   "outputs": [],
   "source": [
    "# creating new column for weather that contains the word rain or \n",
    "df['rain'] = df['weather'].str.contains('rain|thunderstorm|thundershowers|shower', case = False ,regex=True)"
   ]
  },
  {
   "cell_type": "code",
   "execution_count": 30,
   "id": "1a9f5a35",
   "metadata": {},
   "outputs": [
    {
     "data": {
      "text/plain": [
       "False    245696\n",
       "True       3327\n",
       "Name: rain, dtype: int64"
      ]
     },
     "execution_count": 30,
     "metadata": {},
     "output_type": "execute_result"
    }
   ],
   "source": [
    "#count number of the rainy days\n",
    "df['rain'].value_counts()"
   ]
  },
  {
   "cell_type": "code",
   "execution_count": 34,
   "id": "4ec44b7f",
   "metadata": {},
   "outputs": [
    {
     "data": {
      "image/png": "[encoded data removed]",
      "text/plain": [
       "<Figure size 432x288 with 1 Axes>"
      ]
     },
     "metadata": {
      "needs_background": "light"
     },
     "output_type": "display_data"
    }
   ],
   "source": [
    "# create bar chart represents the rain during 2017-2019\n",
    "\n",
    "plt.title('Number of the rainy hours in Saudi Arabia from 2017 -2019')\n",
    "ax = sns.countplot(x=\"rain\", data=df, palette=\"Set2\")\n",
    "plt.show()"
   ]
  },
  {
   "cell_type": "markdown",
   "id": "eb794bc4",
   "metadata": {},
   "source": [
    "It shows that our data is unblanced, we could try to explore the rainy days for each city."
   ]
  },
  {
   "cell_type": "code",
   "execution_count": 35,
   "id": "003a8666",
   "metadata": {},
   "outputs": [],
   "source": [
    "city_rain = pd.DataFrame(df.groupby(['city','year'])['rain'].sum())"
   ]
  },
  {
   "cell_type": "code",
   "execution_count": 39,
   "id": "5e91c7cf",
   "metadata": {},
   "outputs": [],
   "source": [
    "city_rain = city_rain.reset_index()"
   ]
  },
  {
   "cell_type": "code",
   "execution_count": 48,
   "id": "50cc1786",
   "metadata": {},
   "outputs": [
    {
     "data": {
      "image/png": "[encoded data removed]",
      "text/plain": [
       "<Figure size 864x576 with 1 Axes>"
      ]
     },
     "metadata": {
      "needs_background": "light"
     },
     "output_type": "display_data"
    }
   ],
   "source": [
    "# create bar chart grouped by year and city \n",
    "\n",
    "plt.figure(figsize=(12,8))\n",
    "sns.barplot(data=city_rain, x=\"city\", y=\"rain\", ci=None, hue='year', palette=\"Set2\")\n",
    "plt.title('Number of hourly rainfall in Saudi Arabia per City (2017 - 2019)')\n",
    "plt.xlabel('City' )\n",
    "plt.ylabel('Rain Count per Hours')\n",
    "plt.xticks(rotation=45)\n",
    "sns.despine()\n",
    "\n",
    "\n",
    "plt.show()"
   ]
  },
  {
   "cell_type": "markdown",
   "id": "d7e87774",
   "metadata": {},
   "source": [
    "\n",
    "### Observation:\n",
    "<ul>\n",
    "    <li>2019 shows the least number of rainfall compared to 2018 and 2017. Whereas, 2018 shows the highest number of rainfall. </li>\n",
    "    <li>Starting from 2017, The Eastern Province and Baha have the highest hourly rainfall followed by Assir and Jazzn.</li>\n",
    "    <ui>In 2018, Qassim and Hail have the highest hourly rainfall followed by Baha and Jouf </ui>\n",
    "\n",
    "</ul>"
   ]
  },
  {
   "cell_type": "code",
   "execution_count": null,
   "id": "4273122e",
   "metadata": {},
   "outputs": [],
   "source": []
  }
 ],
 "metadata": {
  "kernelspec": {
   "display_name": "Python 3 (ipykernel)",
   "language": "python",
   "name": "python3"
  },
  "language_info": {
   "codemirror_mode": {
    "name": "ipython",
    "version": 3
   },
   "file_extension": ".py",
   "mimetype": "text/x-python",
   "name": "python",
   "nbconvert_exporter": "python",
   "pygments_lexer": "ipython3",
   "version": "3.9.9"
  },
  "toc": {
   "base_numbering": 1,
   "nav_menu": {},
   "number_sections": true,
   "sideBar": true,
   "skip_h1_title": false,
   "title_cell": "Table of Contents",
   "title_sidebar": "Contents",
   "toc_cell": false,
   "toc_position": {},
   "toc_section_display": true,
   "toc_window_display": false
  },
  "varInspector": {
   "cols": {
    "lenName": 16,
    "lenType": 16,
    "lenVar": 40
   },
   "kernels_config": {
    "python": {
     "delete_cmd_postfix": "",
     "delete_cmd_prefix": "del ",
     "library": "var_list.py",
     "varRefreshCmd": "print(var_dic_list())"
    },
    "r": {
     "delete_cmd_postfix": ") ",
     "delete_cmd_prefix": "rm(",
     "library": "var_list.r",
     "varRefreshCmd": "cat(var_dic_list()) "
    }
   },
   "types_to_exclude": [
    "module",
    "function",
    "builtin_function_or_method",
    "instance",
    "_Feature"
   ],
   "window_display": false
  }
 },
 "nbformat": 4,
 "nbformat_minor": 5
}
